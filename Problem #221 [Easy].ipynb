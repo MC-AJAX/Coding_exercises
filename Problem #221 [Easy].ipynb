{
 "cells": [
  {
   "cell_type": "code",
   "execution_count": 1,
   "metadata": {},
   "outputs": [],
   "source": [
    "#Let's define a \"sevinish\" number to be one which is either a power of 7, or the sum of unique powers of 7.\n",
    "#The first few sevenish numbers are 1,7,8,49, and so on.\n",
    "#Create an algorith to find the nth sevenish number."
   ]
  },
  {
   "cell_type": "code",
   "execution_count": null,
   "metadata": {},
   "outputs": [],
   "source": [
    "#Create 3 lists. List 1 holds powers of 7. List 2 holds sums of powers of 7. List 3 holds list of all"
   ]
  },
  {
   "cell_type": "code",
   "execution_count": 16,
   "metadata": {},
   "outputs": [],
   "source": [
    "def sevinish(n):\n",
    "    \n",
    "    if n == 1:\n",
    "        return 1\n",
    "    \n",
    "    power_lst = [1]\n",
    "    total_lst = [1]\n",
    "    \n",
    "    for num in range(1,n+1):\n",
    "        x = 7 ** num\n",
    "        \n",
    "        total_lst.append(x)\n",
    "        \n",
    "        if total_lst\n",
    "        \n",
    "        for item in power_lst:\n",
    "\n",
    "            y = item + x\n",
    "            total_lst.append(y)\n",
    "            print(\"Total list: \")\n",
    "            print(total_lst)\n",
    "\n",
    "        power_lst.append(x)\n",
    "        print(\"Power list: \")\n",
    "        print(power_lst)"
   ]
  },
  {
   "cell_type": "code",
   "execution_count": 17,
   "metadata": {},
   "outputs": [
    {
     "name": "stdout",
     "output_type": "stream",
     "text": [
      "Total list: \n",
      "[1, 7, 8]\n",
      "Power list: \n",
      "[1, 7]\n",
      "Total list: \n",
      "[1, 7, 8, 49, 50]\n",
      "Total list: \n",
      "[1, 7, 8, 49, 50, 56]\n",
      "Power list: \n",
      "[1, 7, 49]\n",
      "Total list: \n",
      "[1, 7, 8, 49, 50, 56, 343, 344]\n",
      "Total list: \n",
      "[1, 7, 8, 49, 50, 56, 343, 344, 350]\n",
      "Total list: \n",
      "[1, 7, 8, 49, 50, 56, 343, 344, 350, 392]\n",
      "Power list: \n",
      "[1, 7, 49, 343]\n"
     ]
    }
   ],
   "source": [
    "sevinish(3)"
   ]
  },
  {
   "cell_type": "code",
   "execution_count": null,
   "metadata": {},
   "outputs": [],
   "source": []
  }
 ],
 "metadata": {
  "kernelspec": {
   "display_name": "Python 3",
   "language": "python",
   "name": "python3"
  },
  "language_info": {
   "codemirror_mode": {
    "name": "ipython",
    "version": 3
   },
   "file_extension": ".py",
   "mimetype": "text/x-python",
   "name": "python",
   "nbconvert_exporter": "python",
   "pygments_lexer": "ipython3",
   "version": "3.8.5"
  }
 },
 "nbformat": 4,
 "nbformat_minor": 4
}
