{
 "cells": [
  {
   "cell_type": "code",
   "execution_count": 1,
   "metadata": {},
   "outputs": [],
   "source": [
    "#Problem 233\n",
    "#Implement the function fib(n), which returns the n^th number in the Fibonacci sequence,using only O(1) space."
   ]
  },
  {
   "cell_type": "code",
   "execution_count": 23,
   "metadata": {},
   "outputs": [],
   "source": [
    "def fib(n):\n",
    "    x=0\n",
    "    y=1\n",
    "    z=0\n",
    "    \n",
    "    for num in range(0,n):\n",
    "        \n",
    "        #Leapfrogs between having y and z store the previous value of x\n",
    "        #This executes on even runs\n",
    "        if (num % 2) == 0:\n",
    "            z = x\n",
    "            x = x+y\n",
    "            print(x)\n",
    "        \n",
    "        #This executes on odd runs\n",
    "        else:\n",
    "            y = x\n",
    "            x = x+z\n",
    "            print(x)\n",
    "    \n",
    "    return x\n",
    "    "
   ]
  },
  {
   "cell_type": "code",
   "execution_count": 22,
   "metadata": {},
   "outputs": [
    {
     "name": "stdout",
     "output_type": "stream",
     "text": [
      "ERROR: Could not find file <ipython-input-21-e66090c47134>\n",
      "NOTE: %mprun can only be used on functions defined in physical files, and not in the IPython environment.\n",
      "even equals:\n",
      "1\n",
      "odd equals:\n",
      "1\n",
      "even equals:\n",
      "2\n",
      "odd equals:\n",
      "3\n",
      "even equals:\n",
      "5\n",
      "odd equals:\n",
      "8\n",
      "even equals:\n",
      "13\n",
      "odd equals:\n",
      "21\n",
      "even equals:\n",
      "34\n",
      "odd equals:\n",
      "55\n",
      "even equals:\n",
      "89\n",
      "odd equals:\n",
      "144\n"
     ]
    },
    {
     "data": {
      "text/plain": [
       "144"
      ]
     },
     "execution_count": 22,
     "metadata": {},
     "output_type": "execute_result"
    }
   ],
   "source": [
    "fib(12)"
   ]
  },
  {
   "cell_type": "code",
   "execution_count": null,
   "metadata": {},
   "outputs": [],
   "source": []
  }
 ],
 "metadata": {
  "kernelspec": {
   "display_name": "Python 3",
   "language": "python",
   "name": "python3"
  },
  "language_info": {
   "codemirror_mode": {
    "name": "ipython",
    "version": 3
   },
   "file_extension": ".py",
   "mimetype": "text/x-python",
   "name": "python",
   "nbconvert_exporter": "python",
   "pygments_lexer": "ipython3",
   "version": "3.8.5"
  }
 },
 "nbformat": 4,
 "nbformat_minor": 4
}
