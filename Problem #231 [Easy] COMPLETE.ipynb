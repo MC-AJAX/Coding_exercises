{
 "cells": [
  {
   "cell_type": "code",
   "execution_count": 1,
   "metadata": {},
   "outputs": [],
   "source": [
    "#231[Easy]\n",
    "\n",
    "#Given a string with repeated charecters, rearrange the string so that no two adjacent charecters are the same. If this is not possible, return None\n",
    "#For exmaple, given \"aaabbc\" you could return \"ababac\" Given \"aaab\" return None"
   ]
  },
  {
   "cell_type": "code",
   "execution_count": 2,
   "metadata": {},
   "outputs": [
    {
     "name": "stdout",
     "output_type": "stream",
     "text": [
      "Enter a repeated charecter string: aaabbc\n"
     ]
    }
   ],
   "source": [
    "#Takes a string from the user\n",
    "char_string = input(\"Enter a repeated charecter string: \")\n",
    "my_dict = {}\n",
    "return_str = ''\n",
    "counter = 0"
   ]
  },
  {
   "cell_type": "code",
   "execution_count": 3,
   "metadata": {},
   "outputs": [
    {
     "name": "stdout",
     "output_type": "stream",
     "text": [
      "{'a': 1}\n",
      "{'a': 2}\n",
      "{'a': 3}\n",
      "{'a': 3, 'b': 1}\n",
      "{'a': 3, 'b': 2}\n",
      "{'a': 3, 'b': 2, 'c': 1}\n"
     ]
    }
   ],
   "source": [
    "#Turns the input string into a dictionary\n",
    "for letter in char_string:\n",
    "    #Each letter will be one key\n",
    "    if letter not in my_dict.keys():\n",
    "        my_dict[letter] = 1\n",
    "    #Any repeating letters will increase the value of an existing key    \n",
    "    else:\n",
    "        my_dict[letter] = my_dict[letter] + 1\n",
    "        \n",
    "    print(my_dict)"
   ]
  },
  {
   "cell_type": "code",
   "execution_count": 4,
   "metadata": {},
   "outputs": [
    {
     "name": "stdout",
     "output_type": "stream",
     "text": [
      "{'a': 2, 'b': 2, 'c': 1}\n",
      "a\n",
      "{'a': 2, 'b': 1, 'c': 1}\n",
      "ab\n",
      "{'a': 2, 'b': 1, 'c': 0}\n",
      "abc\n",
      "{'a': 2, 'b': 1}\n",
      "abc\n",
      "{'a': 1, 'b': 1}\n",
      "abca\n",
      "{'a': 1, 'b': 0}\n",
      "abcab\n",
      "{'a': 1}\n",
      "abcab\n",
      "{'a': 0}\n",
      "abcaba\n",
      "{}\n",
      "abcaba\n",
      "abcaba\n"
     ]
    }
   ],
   "source": [
    "#Loops through the dictionary and adds letters to the return string\n",
    "#Stops looping when the dictionary is empty\n",
    "while my_dict != {}:\n",
    "     \n",
    "    for key in list(my_dict.keys()):\n",
    "        \n",
    "        #Subtracts a value from an existing key as it loops\n",
    "        if my_dict[key] != 0:\n",
    "            return_str = return_str + key\n",
    "            my_dict[key] -= 1\n",
    "            print(my_dict)\n",
    "            print(return_str)\n",
    "        \n",
    "        #Deletes keys with values that equal 0\n",
    "        if my_dict[key] == 0:\n",
    "            del my_dict[key]\n",
    "            print(my_dict)\n",
    "            print(return_str)\n",
    "            \n",
    "        #Detects if the last 2 letters added were the same, this means there were not enough unique letters\n",
    "        if counter >= 1:    \n",
    "            if return_str[-1] == return_str[-2]:\n",
    "                print(None)\n",
    "                break\n",
    "                \n",
    "        counter += 1\n",
    "        \n",
    "print(return_str)"
   ]
  },
  {
   "cell_type": "code",
   "execution_count": null,
   "metadata": {},
   "outputs": [],
   "source": []
  }
 ],
 "metadata": {
  "kernelspec": {
   "display_name": "Python 3",
   "language": "python",
   "name": "python3"
  },
  "language_info": {
   "codemirror_mode": {
    "name": "ipython",
    "version": 3
   },
   "file_extension": ".py",
   "mimetype": "text/x-python",
   "name": "python",
   "nbconvert_exporter": "python",
   "pygments_lexer": "ipython3",
   "version": "3.8.5"
  }
 },
 "nbformat": 4,
 "nbformat_minor": 4
}
