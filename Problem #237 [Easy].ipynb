{
 "cells": [
  {
   "cell_type": "code",
   "execution_count": 1,
   "metadata": {},
   "outputs": [],
   "source": [
    "#A tree is symmetric if its data and shape remain unchanged when it is reflected about the root node. \n",
    "#Given a K-ary tree, determine whether it is symmetric\n",
    "#As practice I'm going to implement this using only Binary trees since creating a full tree class in python would be a problem by itself"
   ]
  },
  {
   "cell_type": "code",
   "execution_count": 1,
   "metadata": {},
   "outputs": [],
   "source": [
    "#Node class for Binary tree\n",
    "class Node:\n",
    "    def __init__(self, data):\n",
    "        self.left = None\n",
    "        self.right = None\n",
    "        self.data = data"
   ]
  },
  {
   "cell_type": "code",
   "execution_count": 2,
   "metadata": {},
   "outputs": [],
   "source": [
    "root = Node(10)\n",
    "\n",
    "root.left = Node(34)\n",
    "root.right = Node(89)\n",
    "root.left.left = Node(45)\n",
    "root.left.right = Node(50)\n",
    "root.right.left = Node(36)\n",
    "root.right.right = Node(12)"
   ]
  },
  {
   "cell_type": "code",
   "execution_count": 5,
   "metadata": {},
   "outputs": [],
   "source": [
    "#Preorder traversal\n",
    "def preorder(node):\n",
    "    if node:\n",
    "        print(node.data)\n",
    "        preorder(node.left)\n",
    "        preorder(node.right)"
   ]
  },
  {
   "cell_type": "code",
   "execution_count": 9,
   "metadata": {},
   "outputs": [
    {
     "name": "stdout",
     "output_type": "stream",
     "text": [
      "10\n",
      "34\n",
      "45\n",
      "left\n",
      "right\n",
      "left\n",
      "50\n",
      "left\n",
      "right\n",
      "right\n",
      "left\n",
      "89\n",
      "36\n",
      "left\n",
      "right\n",
      "left\n",
      "12\n",
      "left\n",
      "right\n",
      "right\n",
      "right\n"
     ]
    }
   ],
   "source": [
    "#Loop through tree once, if number of nodes even then not symetric\n",
    "#\n",
    "\n",
    "preorder(root)"
   ]
  },
  {
   "cell_type": "code",
   "execution_count": 17,
   "metadata": {},
   "outputs": [],
   "source": [
    "#If you come back to this and dont remember what it is, delete it\n",
    "def check_symmetry(root_node, count):\n",
    "    print(root.data)\n",
    "    \n",
    "    if root_node.left != None:\n",
    "        print(\"Going left\")\n",
    "        count += 1\n",
    "        check_symmetry(root_node.left,count)\n",
    "        \n",
    "    if root_node.right != None:\n",
    "        print(\"Going right\")\n",
    "        count += 1\n",
    "        check_symmetry(root_node.right,count)\n",
    "        \n",
    "    else:\n",
    "        print(\"final node count is: \")\n",
    "        print(count)"
   ]
  },
  {
   "cell_type": "code",
   "execution_count": 18,
   "metadata": {},
   "outputs": [
    {
     "name": "stdout",
     "output_type": "stream",
     "text": [
      "10\n",
      "Going left\n",
      "10\n",
      "Going left\n",
      "10\n",
      "final node count is: \n",
      "2\n",
      "Going right\n",
      "10\n",
      "final node count is: \n",
      "3\n",
      "Going right\n",
      "10\n",
      "Going left\n",
      "10\n",
      "final node count is: \n",
      "3\n",
      "Going right\n",
      "10\n",
      "final node count is: \n",
      "4\n"
     ]
    }
   ],
   "source": [
    "node_count = 0\n",
    "check_symmetry(root,node_count)"
   ]
  },
  {
   "cell_type": "code",
   "execution_count": null,
   "metadata": {},
   "outputs": [],
   "source": []
  }
 ],
 "metadata": {
  "kernelspec": {
   "display_name": "Python 3",
   "language": "python",
   "name": "python3"
  },
  "language_info": {
   "codemirror_mode": {
    "name": "ipython",
    "version": 3
   },
   "file_extension": ".py",
   "mimetype": "text/x-python",
   "name": "python",
   "nbconvert_exporter": "python",
   "pygments_lexer": "ipython3",
   "version": "3.8.5"
  }
 },
 "nbformat": 4,
 "nbformat_minor": 4
}
